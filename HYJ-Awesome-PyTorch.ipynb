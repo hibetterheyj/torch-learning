{
 "cells": [
  {
   "cell_type": "markdown",
   "metadata": {
    "toc": true
   },
   "source": [
    "<h1>Table of Contents<span class=\"tocSkip\"></span></h1>\n",
    "<div class=\"toc\"><ul class=\"toc-item\"><li><span><a href=\"#Jupyter-Resources\" data-toc-modified-id=\"Jupyter-Resources-1\"><span class=\"toc-item-num\">1&nbsp;&nbsp;</span>Jupyter Resources</a></span><ul class=\"toc-item\"><li><span><a href=\"#How-to-do?\" data-toc-modified-id=\"How-to-do?-1.1\"><span class=\"toc-item-num\">1.1&nbsp;&nbsp;</span>How to do?</a></span></li><li><span><a href=\"#How-to-learn?\" data-toc-modified-id=\"How-to-learn?-1.2\"><span class=\"toc-item-num\">1.2&nbsp;&nbsp;</span>How to learn?</a></span><ul class=\"toc-item\"><li><span><a href=\"#Notebook\" data-toc-modified-id=\"Notebook-1.2.1\"><span class=\"toc-item-num\">1.2.1&nbsp;&nbsp;</span>Notebook</a></span><ul class=\"toc-item\"><li><span><a href=\"#Official\" data-toc-modified-id=\"Official-1.2.1.1\"><span class=\"toc-item-num\">1.2.1.1&nbsp;&nbsp;</span>Official</a></span></li><li><span><a href=\"#Kaggle\" data-toc-modified-id=\"Kaggle-1.2.1.2\"><span class=\"toc-item-num\">1.2.1.2&nbsp;&nbsp;</span>Kaggle</a></span></li><li><span><a href=\"#github\" data-toc-modified-id=\"github-1.2.1.3\"><span class=\"toc-item-num\">1.2.1.3&nbsp;&nbsp;</span>github</a></span></li></ul></li><li><span><a href=\"#Tutorial-Video\" data-toc-modified-id=\"Tutorial-Video-1.2.2\"><span class=\"toc-item-num\">1.2.2&nbsp;&nbsp;</span>Tutorial Video</a></span></li><li><span><a href=\"#Related-Implementation\" data-toc-modified-id=\"Related-Implementation-1.2.3\"><span class=\"toc-item-num\">1.2.3&nbsp;&nbsp;</span>Related Implementation</a></span></li><li><span><a href=\"#Others\" data-toc-modified-id=\"Others-1.2.4\"><span class=\"toc-item-num\">1.2.4&nbsp;&nbsp;</span>Others</a></span></li></ul></li></ul></li></ul></div>"
   ]
  },
  {
   "cell_type": "markdown",
   "metadata": {},
   "source": [
    "# Jupyter Resources"
   ]
  },
  {
   "cell_type": "markdown",
   "metadata": {},
   "source": [
    "## How to do? "
   ]
  },
  {
   "cell_type": "markdown",
   "metadata": {},
   "source": [
    "- https://github.com/Cadene/pretrained-models.pytorch"
   ]
  },
  {
   "cell_type": "markdown",
   "metadata": {},
   "source": [
    "## How to learn? "
   ]
  },
  {
   "cell_type": "markdown",
   "metadata": {},
   "source": [
    "### Notebook "
   ]
  },
  {
   "cell_type": "markdown",
   "metadata": {},
   "source": [
    "#### Official"
   ]
  },
  {
   "cell_type": "markdown",
   "metadata": {},
   "source": [
    "- https://pytorch.org/tutorials/\n",
    "- https://pytorch.org/tutorials/beginner/deep_learning_60min_blitz.html"
   ]
  },
  {
   "cell_type": "markdown",
   "metadata": {},
   "source": [
    "#### Kaggle "
   ]
  },
  {
   "cell_type": "markdown",
   "metadata": {},
   "source": [
    "- https://www.kaggle.com/kanncaa1/pytorch-tutorial-for-deep-learning-lovers\n",
    "- https://www.kaggle.com/krishanudb/pytorch-tutorial-for-beginners"
   ]
  },
  {
   "cell_type": "markdown",
   "metadata": {},
   "source": [
    "#### github "
   ]
  },
  {
   "cell_type": "markdown",
   "metadata": {},
   "source": [
    "- https://github.com/yunjey/pytorch-tutorial\n",
    "- https://github.com/bharathgs/Awesome-pytorch-list#cv\n",
    "- https://github.com/chenyuntc/pytorch-book"
   ]
  },
  {
   "cell_type": "markdown",
   "metadata": {},
   "source": [
    "### Tutorial Video "
   ]
  },
  {
   "cell_type": "markdown",
   "metadata": {},
   "source": [
    "- [Deep Learning与PyTorch入门实战视频教程](https://www.bilibili.com/video/av15823922)\n",
    "\n",
    "https://github.com/dragen1860/DeepLearningTutorials"
   ]
  },
  {
   "cell_type": "markdown",
   "metadata": {},
   "source": [
    "- [Zero to all](https://www.bilibili.com/video/av15823922/)\n",
    "\n",
    "https://github.com/hunkim/PyTorchZeroToAll"
   ]
  },
  {
   "cell_type": "markdown",
   "metadata": {},
   "source": [
    "### Related Implementation "
   ]
  },
  {
   "cell_type": "markdown",
   "metadata": {},
   "source": [
    " "
   ]
  },
  {
   "cell_type": "markdown",
   "metadata": {},
   "source": [
    "### Others "
   ]
  },
  {
   "cell_type": "markdown",
   "metadata": {},
   "source": [
    "- https://github.com/dragen1860/Graph-Neural-Network-Papers"
   ]
  }
 ],
 "metadata": {
  "kernelspec": {
   "display_name": "Python 3",
   "language": "python",
   "name": "python3"
  },
  "language_info": {
   "codemirror_mode": {
    "name": "ipython",
    "version": 3
   },
   "file_extension": ".py",
   "mimetype": "text/x-python",
   "name": "python",
   "nbconvert_exporter": "python",
   "pygments_lexer": "ipython3",
   "version": "3.6.8"
  },
  "toc": {
   "base_numbering": 1,
   "nav_menu": {},
   "number_sections": true,
   "sideBar": true,
   "skip_h1_title": false,
   "title_cell": "Table of Contents",
   "title_sidebar": "Contents",
   "toc_cell": true,
   "toc_position": {},
   "toc_section_display": true,
   "toc_window_display": true
  }
 },
 "nbformat": 4,
 "nbformat_minor": 2
}
