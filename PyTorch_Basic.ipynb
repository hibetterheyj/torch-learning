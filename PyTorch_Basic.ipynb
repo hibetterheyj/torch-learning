{
 "cells": [
  {
   "cell_type": "markdown",
   "metadata": {
    "toc": "true"
   },
   "source": [
    "<h1>Table of Contents<span class=\"tocSkip\"></span></h1>\n",
    "<div class=\"toc\"><ul class=\"toc-item\"><li><span><a href=\"#PyTorch入门\" data-toc-modified-id=\"PyTorch入门-1\"><span class=\"toc-item-num\">1&nbsp;&nbsp;</span>PyTorch入门</a></span><ul class=\"toc-item\"><li><span><a href=\"#介绍与安装\" data-toc-modified-id=\"介绍与安装-1.1\"><span class=\"toc-item-num\">1.1&nbsp;&nbsp;</span>介绍与安装</a></span></li><li><span><a href=\"#PyTorch-神经网络基础\" data-toc-modified-id=\"PyTorch-神经网络基础-1.2\"><span class=\"toc-item-num\">1.2&nbsp;&nbsp;</span>PyTorch 神经网络基础</a></span></li><li><span><a href=\"#Torch-或-Numpy\" data-toc-modified-id=\"Torch-或-Numpy-1.3\"><span class=\"toc-item-num\">1.3&nbsp;&nbsp;</span>Torch 或 Numpy</a></span><ul class=\"toc-item\"><li><span><a href=\"#变量-Variable（不推荐）\" data-toc-modified-id=\"变量-Variable（不推荐）-1.3.1\"><span class=\"toc-item-num\">1.3.1&nbsp;&nbsp;</span>变量 Variable（不推荐）</a></span></li><li><span><a href=\"#激活函数-Activation-Function\" data-toc-modified-id=\"激活函数-Activation-Function-1.3.2\"><span class=\"toc-item-num\">1.3.2&nbsp;&nbsp;</span>激活函数 Activation Function</a></span></li></ul></li><li><span><a href=\"#建造第一个神经网络\" data-toc-modified-id=\"建造第一个神经网络-1.4\"><span class=\"toc-item-num\">1.4&nbsp;&nbsp;</span>建造第一个神经网络</a></span><ul class=\"toc-item\"><li><span><a href=\"#Regression-回归\" data-toc-modified-id=\"Regression-回归-1.4.1\"><span class=\"toc-item-num\">1.4.1&nbsp;&nbsp;</span>Regression 回归</a></span><ul class=\"toc-item\"><li><span><a href=\"#相关资源：\" data-toc-modified-id=\"相关资源：-1.4.1.1\"><span class=\"toc-item-num\">1.4.1.1&nbsp;&nbsp;</span>相关资源：</a></span></li><li><span><a href=\"#可视化\" data-toc-modified-id=\"可视化-1.4.1.2\"><span class=\"toc-item-num\">1.4.1.2&nbsp;&nbsp;</span>可视化</a></span></li><li><span><a href=\"#特别函数说明\" data-toc-modified-id=\"特别函数说明-1.4.1.3\"><span class=\"toc-item-num\">1.4.1.3&nbsp;&nbsp;</span>特别函数说明</a></span></li><li><span><a href=\"#数据及神经网络\" data-toc-modified-id=\"数据及神经网络-1.4.1.4\"><span class=\"toc-item-num\">1.4.1.4&nbsp;&nbsp;</span>数据及神经网络</a></span></li><li><span><a href=\"#训练过程\" data-toc-modified-id=\"训练过程-1.4.1.5\"><span class=\"toc-item-num\">1.4.1.5&nbsp;&nbsp;</span>训练过程</a></span></li></ul></li><li><span><a href=\"#区分类型-(分类)\" data-toc-modified-id=\"区分类型-(分类)-1.4.2\"><span class=\"toc-item-num\">1.4.2&nbsp;&nbsp;</span>区分类型 (分类)</a></span><ul class=\"toc-item\"><li><span><a href=\"#相关资源\" data-toc-modified-id=\"相关资源-1.4.2.1\"><span class=\"toc-item-num\">1.4.2.1&nbsp;&nbsp;</span>相关资源</a></span></li><li><span><a href=\"#特殊函数介绍\" data-toc-modified-id=\"特殊函数介绍-1.4.2.2\"><span class=\"toc-item-num\">1.4.2.2&nbsp;&nbsp;</span>特殊函数介绍</a></span></li><li><span><a href=\"#数据及可视化\" data-toc-modified-id=\"数据及可视化-1.4.2.3\"><span class=\"toc-item-num\">1.4.2.3&nbsp;&nbsp;</span>数据及可视化</a></span></li><li><span><a href=\"#神经网络\" data-toc-modified-id=\"神经网络-1.4.2.4\"><span class=\"toc-item-num\">1.4.2.4&nbsp;&nbsp;</span>神经网络</a></span></li><li><span><a href=\"#训练过程\" data-toc-modified-id=\"训练过程-1.4.2.5\"><span class=\"toc-item-num\">1.4.2.5&nbsp;&nbsp;</span>训练过程</a></span></li></ul></li></ul></li><li><span><a href=\"#高级神经网络结构\" data-toc-modified-id=\"高级神经网络结构-1.5\"><span class=\"toc-item-num\">1.5&nbsp;&nbsp;</span>高级神经网络结构</a></span></li><li><span><a href=\"#高阶内容\" data-toc-modified-id=\"高阶内容-1.6\"><span class=\"toc-item-num\">1.6&nbsp;&nbsp;</span>高阶内容</a></span></li><li><span><a href=\"#继续学习\" data-toc-modified-id=\"继续学习-1.7\"><span class=\"toc-item-num\">1.7&nbsp;&nbsp;</span>继续学习</a></span></li></ul></li></ul></div>"
   ]
  },
  {
   "cell_type": "markdown",
   "metadata": {},
   "source": [
    "# PyTorch入门"
   ]
  },
  {
   "cell_type": "code",
   "execution_count": 12,
   "metadata": {
    "collapsed": true
   },
   "outputs": [],
   "source": [
    "import torch\n",
    "import numpy as np\n",
    "import matplotlib.pyplot as plt\n",
    "import torch.nn as nn\n",
    "import torch.nn.functional as F"
   ]
  },
  {
   "cell_type": "markdown",
   "metadata": {},
   "source": [
    "> [PyTorch 动态神经网络 (莫烦 Python 教学)](https://www.bilibili.com/video/av15997678/)\n",
    ">\n",
    "> https://morvanzhou.github.io/tutorials/machine-learning/torch/"
   ]
  },
  {
   "cell_type": "markdown",
   "metadata": {},
   "source": [
    "## 介绍与安装"
   ]
  },
  {
   "cell_type": "markdown",
   "metadata": {},
   "source": [
    "- 安装cpu版本\n",
    "\n",
    "```shell\n",
    "conda install pytorch-cpu torchvision-cpu -c pytorch\n",
    "```"
   ]
  },
  {
   "cell_type": "markdown",
   "metadata": {},
   "source": [
    "- 验证\n",
    "\n",
    "```\n",
    "# 在命令行下\n",
    ">> python\n",
    ">> \n",
    "from __future__ import print_function\n",
    "import torch\n",
    "x = torch.rand(5, 3)\n",
    "print(x)\n",
    "# 类似的输出\n",
    ">> \n",
    "tensor([[0.3380, 0.3845, 0.3217],\n",
    "        [0.8337, 0.9050, 0.2650],\n",
    "        [0.2979, 0.7141, 0.9069],\n",
    "        [0.1449, 0.1132, 0.1375],\n",
    "        [0.4675, 0.3947, 0.1426]])\n",
    "```"
   ]
  },
  {
   "cell_type": "code",
   "execution_count": 2,
   "metadata": {},
   "outputs": [
    {
     "name": "stdout",
     "output_type": "stream",
     "text": [
      "tensor([[0.3910, 0.1119, 0.3707],\n",
      "        [0.9497, 0.1258, 0.1085],\n",
      "        [0.3201, 0.9509, 0.1416],\n",
      "        [0.1005, 0.2441, 0.4778],\n",
      "        [0.8125, 0.3182, 0.0582]])\n"
     ]
    }
   ],
   "source": [
    "x = torch.rand(5, 3)\n",
    "print(x)"
   ]
  },
  {
   "cell_type": "markdown",
   "metadata": {},
   "source": []
  },
  {
   "cell_type": "markdown",
   "metadata": {},
   "source": [
    "## PyTorch 神经网络基础"
   ]
  },
  {
   "cell_type": "markdown",
   "metadata": {},
   "source": [
    "> 从 [2.1 Torch 或 Numpy](https://www.bilibili.com/video/av15997678/?p=7) 开始"
   ]
  },
  {
   "cell_type": "markdown",
   "metadata": {},
   "source": [
    "## Torch 或 Numpy"
   ]
  },
  {
   "cell_type": "markdown",
   "metadata": {},
   "source": [
    "- 基本数据结构"
   ]
  },
  {
   "cell_type": "code",
   "execution_count": 28,
   "metadata": {
    "collapsed": true
   },
   "outputs": [
    {
     "name": "stdout",
     "output_type": "stream",
     "text": [
      "np_data\n",
      " [[0 1 2]\n",
      " [3 4 5]]\n",
      "torch_data\n",
      " tensor([[0, 1, 2],\n",
      "        [3, 4, 5]], dtype=torch.int32)\n",
      "tensor2array\n",
      " [[0 1 2]\n",
      " [3 4 5]]\n"
     ]
    }
   ],
   "source": [
    "np_data = np.arange(6).reshape((2, 3))\n",
    "torch_data = torch.from_numpy(np_data)\n",
    "tensor2array = torch_data.numpy()\n",
    "\n",
    "print('np_data\\n', np_data)\n",
    "print('torch_data\\n', torch_data)\n",
    "print('tensor2array\\n', tensor2array)"
   ]
  },
  {
   "cell_type": "markdown",
   "metadata": {},
   "source": [
    "- 类似的运算符"
   ]
  },
  {
   "cell_type": "code",
   "execution_count": 19,
   "metadata": {},
   "outputs": [
    {
     "name": "stdout",
     "output_type": "stream",
     "text": [
      "abs\n",
      "np abs\n",
      " [1 2 3 4]\n",
      "tensor abs\n",
      " tensor([1., 2., 3., 4.])\n",
      "\n",
      "mean\n",
      "np abs\n",
      " 0.5\n",
      "tensor abs\n",
      " tensor(0.5000)\n"
     ]
    }
   ],
   "source": [
    "data7_1 = [-1, 2, -3, 4]\n",
    "tensor7_1 = torch.FloatTensor(data7_1)\n",
    "\n",
    "print('abs')\n",
    "print('np abs\\n', np.abs(data7_1))\n",
    "print('tensor abs\\n', torch.abs(tensor7_1))\n",
    "\n",
    "print('\\nmean')\n",
    "print('np abs\\n', np.mean(data7_1))\n",
    "print('tensor abs\\n', torch.mean(tensor7_1))"
   ]
  },
  {
   "cell_type": "markdown",
   "metadata": {},
   "source": [
    "- 矩阵运算"
   ]
  },
  {
   "cell_type": "code",
   "execution_count": 40,
   "metadata": {},
   "outputs": [
    {
     "name": "stdout",
     "output_type": "stream",
     "text": [
      "np.dot\n",
      " [[ 7 10]\n",
      " [15 22]]\n",
      "np.matmul\n",
      " [[ 7 10]\n",
      " [15 22]]\n",
      "data,dot\n",
      " [[ 7 10]\n",
      " [15 22]]\n",
      "\n",
      "torch.mm\n",
      " tensor([[ 7, 10],\n",
      "        [15, 22]], dtype=torch.int32)\n"
     ]
    }
   ],
   "source": [
    "data7_2 = np.array([[1, 2],\n",
    "                    [3, 4]])\n",
    "tensor7_2 = torch.from_numpy(data7_2)\n",
    "\n",
    "# 矩阵相乘方法一\n",
    "print('np.dot\\n', np.dot(data7_2, data7_2))\n",
    "print('np.matmul\\n', np.matmul(data7_2, data7_2))\n",
    "print('data,dot\\n', data7_2.dot(data7_2))\n",
    "\n",
    "# tensor相乘\n",
    "print('\\ntorch.mm\\n', torch.mm(tensor7_2, tensor7_2))"
   ]
  },
  {
   "cell_type": "markdown",
   "metadata": {},
   "source": [
    "### 变量 Variable（不推荐）"
   ]
  },
  {
   "cell_type": "markdown",
   "metadata": {},
   "source": [
    "### 激活函数 Activation Function"
   ]
  },
  {
   "cell_type": "code",
   "execution_count": 46,
   "metadata": {
    "collapsed": true
   },
   "outputs": [],
   "source": [
    "import torch.nn as nn\n",
    "import torch.nn.functional as F"
   ]
  },
  {
   "cell_type": "code",
   "execution_count": 56,
   "metadata": {},
   "outputs": [
    {
     "data": {
      "image/png": "[encoded data removed]",
      "text/plain": [
       "<matplotlib.figure.Figure at 0x1fabe351320>"
      ]
     },
     "metadata": {},
     "output_type": "display_data"
    }
   ],
   "source": [
    "x10_1 = torch.linspace(-5, 5,200)\n",
    "x10_1 = torch.FloatTensor(x10_1)\n",
    "x10_1_np = x10_1.numpy()\n",
    "\n",
    "# 激活函数\n",
    "# UserWarning: nn.functional.sigmoid is deprecated. Use torch.sigmoid instead.\n",
    "y_relu = torch.relu(x10_1).numpy()\n",
    "y_sigmoid = torch.sigmoid(x10_1).numpy()\n",
    "y_tanh = torch.tanh(x10_1).numpy()\n",
    "y_softplus = F.softplus(x10_1).numpy()\n",
    "\n",
    "plt.figure(1)\n",
    "# relu\n",
    "plt.subplot(221)\n",
    "plt.plot(x10_1_np, y_relu, c = 'b', label = 'relu')\n",
    "plt.ylim((-1,5))\n",
    "plt.legend(loc = 'best')\n",
    "# sigmoid\n",
    "plt.subplot(222)\n",
    "plt.plot(x10_1_np, y_sigmoid, c = 'b', label = 'sigmoid')\n",
    "plt.ylim((-.2, 1.2))\n",
    "plt.legend(loc = 'best')\n",
    "# tanh\n",
    "plt.subplot(223)\n",
    "plt.plot(x10_1_np, y_tanh, c = 'b', label = 'tanh')\n",
    "plt.ylim((-1.5, 1.5))\n",
    "plt.legend(loc = 'best')\n",
    "# softplus\n",
    "plt.subplot(224)\n",
    "plt.plot(x10_1_np, y_softplus, c = 'b', label = 'softplus')\n",
    "plt.ylim((-1,5))\n",
    "plt.legend(loc = 'best')\n",
    "\n",
    "plt.show()"
   ]
  },
  {
   "cell_type": "markdown",
   "metadata": {},
   "source": [
    "## 建造第一个神经网络"
   ]
  },
  {
   "cell_type": "markdown",
   "metadata": {},
   "source": [
    "> 从 [3.1 关系拟合 (回归)](https://www.bilibili.com/video/av15997678/?p=11) 开始"
   ]
  },
  {
   "cell_type": "markdown",
   "metadata": {},
   "source": [
    "### Regression 回归    "
   ]
  },
  {
   "cell_type": "markdown",
   "metadata": {},
   "source": [
    "#### 相关资源：\n",
    "\n",
    "- [b站](https://www.bilibili.com/video/av15997678/?p=11)\n",
    "- [github](https://morvanzhou.github.io/tutorials/machine-learning/torch/3-01-regression/)"
   ]
  },
  {
   "cell_type": "code",
   "execution_count": 57,
   "metadata": {
    "collapsed": true
   },
   "outputs": [],
   "source": [
    "import torch\n",
    "import torch.nn.functional as F"
   ]
  },
  {
   "cell_type": "markdown",
   "metadata": {},
   "source": [
    "#### 可视化"
   ]
  },
  {
   "cell_type": "code",
   "execution_count": 67,
   "metadata": {},
   "outputs": [
    {
     "data": {
      "image/png": "[encoded data removed]",
      "text/plain": [
       "<matplotlib.figure.Figure at 0x1fabebc1668>"
      ]
     },
     "metadata": {},
     "output_type": "display_data"
    }
   ],
   "source": [
    "# 可视化\n",
    "plt.scatter(x11_1.numpy(), y11_1.numpy())\n",
    "plt.show()"
   ]
  },
  {
   "cell_type": "markdown",
   "metadata": {},
   "source": [
    "#### 特别函数说明\n",
    "\n",
    "- `torch.squeeze()` \n",
    "\n",
    "这个函数主要对数据的维度进行压缩，去掉维数为1的的维度\n",
    "\n",
    "- `torch.unsqueeze()`\n",
    "\n",
    "这个函数主要是对数据维度进行扩充。给指定位置加上维数为一的维度，比如原本有个三行的数据（3），在0的位置加了一维就变成一行三列（1,3）"
   ]
  },
  {
   "cell_type": "markdown",
   "metadata": {},
   "source": [
    "#### 数据及神经网络 "
   ]
  },
  {
   "cell_type": "code",
   "execution_count": 4,
   "metadata": {},
   "outputs": [
    {
     "name": "stdout",
     "output_type": "stream",
     "text": [
      "Net(\n",
      "  (hidden): Linear(in_features=1, out_features=10, bias=True)\n",
      "  (predict): Linear(in_features=10, out_features=1, bias=True)\n",
      ")\n"
     ]
    }
   ],
   "source": [
    "x11_1 = torch.unsqueeze(torch.linspace(-1, 1, 100), dim =1)\n",
    "# 生成类似尺寸的随机tensor torch.rand(x11_1.size())\n",
    "y11_1 = x11_1.pow(2) + 0.2 * torch.rand(x11_1.size())\n",
    "\n",
    "# 生成一个网络\n",
    "class Net(torch.nn.Module):\n",
    "    # 基本功能 __init__() 和 forward()\n",
    "    def __init__(self, n_features, n_hidden, n_output):\n",
    "        # 继承网络功能，必备\n",
    "        super(Net, self).__init__()\n",
    "        # 隐藏层\n",
    "        self.hidden = torch.nn.Linear(n_features, n_hidden) # (n_features, n_hidden) 参数个数，隐藏层神经元\n",
    "        # 预测层\n",
    "        self.predict = torch.nn.Linear(n_hidden, n_output) # (n_hidden, n_output) 隐藏层神经元，输出神经元\n",
    "    \n",
    "    # 前向传递\n",
    "    def forward(self, x):\n",
    "        # 经过第一层隐藏层后的数据再经过relu函数\n",
    "        x = torch.relu(self.hidden(x))\n",
    "        x = self.predict(x)\n",
    "        return x\n",
    "    \n",
    "net = Net(1, 10, 1) # 1个点作为输入，10个隐藏层神经元，1个输出\n",
    "print(net)"
   ]
  },
  {
   "cell_type": "markdown",
   "metadata": {},
   "source": [
    "#### 训练过程 "
   ]
  },
  {
   "cell_type": "markdown",
   "metadata": {},
   "source": [
    "- 求解器 optimizer\n",
    "\n",
    "`torch.optim.SGD(net.parameters(), lr)`"
   ]
  },
  {
   "cell_type": "code",
   "execution_count": 10,
   "metadata": {},
   "outputs": [
    {
     "name": "stdout",
     "output_type": "stream",
     "text": [
      "tensor(0.0042, grad_fn=<MseLossBackward>)\n"
     ]
    }
   ],
   "source": [
    "%matplotlib notebook\n",
    "#import matplotlib.pyplot as plt\n",
    "\n",
    "# 画图添加代码1\n",
    "#plt.ion()\n",
    "#plt.show()\n",
    "\n",
    "optimizer = torch.optim.SGD(net.parameters(), lr = .5)\n",
    "loss_func = torch.nn.MSELoss()\n",
    "iterations = 100\n",
    "\n",
    "for i in range(iterations):\n",
    "    # 每次预测值\n",
    "    prediction = net(x11_1)\n",
    "    # 损失函数计算\n",
    "    loss = loss_func(prediction, y11_1)\n",
    "    \n",
    "    # 把该次迭代时梯度先设为0\n",
    "    optimizer.zero_grad()\n",
    "    # 反向传播\n",
    "    loss.backward()\n",
    "    # 优化更新参数\n",
    "    optimizer.step()\n",
    "    \n",
    "    # 画图添加代码2\n",
    "    #plt.cla()\n",
    "    #plt.scatter(x11_1.data.numpy(), y11_1.data.numpy())\n",
    "    #plt.plot(x11_1.data.numpy(), prediction.data.numpy(), 'r-', lw=5)\n",
    "    #plt.text(0.5, 0, 'Loss=%.4f' % loss.data.numpy(), fontdict={'size': 20, 'color':  'red'})\n",
    "    #plt.pause(0.1)\n",
    "\n",
    "# 画图添加代码3  \n",
    "#plt.ioff()\n",
    "#plt.show()\n",
    "\n",
    "print(loss)"
   ]
  },
  {
   "cell_type": "markdown",
   "metadata": {},
   "source": [
    "### 区分类型 (分类)"
   ]
  },
  {
   "cell_type": "markdown",
   "metadata": {},
   "source": [
    "#### 相关资源\n",
    "\n",
    "- [b站](https://www.bilibili.com/video/av15997678/?p=12)\n",
    "- [github](https://morvanzhou.github.io/tutorials/machine-learning/torch/3-02-classification/)"
   ]
  },
  {
   "cell_type": "markdown",
   "metadata": {
    "collapsed": true
   },
   "source": [
    "#### 特殊函数介绍 "
   ]
  },
  {
   "cell_type": "markdown",
   "metadata": {},
   "source": [
    "- `torch.normal(means, std, out=None)`\n",
    "\n",
    "返回一个张量，包含从给定参数means,std的离散正态分布中抽取随机数。 \n",
    "means (Tensor) 均值means是一个张量，包含每个输出元素相关的正态分布的均值。 \n",
    "std (Tensor) std是一个张量，包含每个输出元素相关的正态分布的标准差。 \n",
    "out (Tensor) 均值和标准差的形状不须匹配，但每个张量的元素个数须相同。"
   ]
  },
  {
   "cell_type": "markdown",
   "metadata": {},
   "source": [
    "- `torch.nn.CrossEntropyLoss()`\n",
    "\n",
    "交叉熵损失函数。可见[Pytorch - Cross Entropy Loss](https://blog.csdn.net/zziahgf/article/details/80196376)"
   ]
  },
  {
   "cell_type": "markdown",
   "metadata": {},
   "source": [
    "#### 数据及可视化 "
   ]
  },
  {
   "cell_type": "code",
   "execution_count": 26,
   "metadata": {
    "scrolled": true
   },
   "outputs": [
    {
     "data": {
      "application/javascript": [
       "/* Put everything inside the global mpl namespace */\n",
       "window.mpl = {};\n",
       "\n",
       "\n",
       "mpl.get_websocket_type = function() {\n",
       "    if (typeof(WebSocket) !== 'undefined') {\n",
       "        return WebSocket;\n",
       "    } else if (typeof(MozWebSocket) !== 'undefined') {\n",
       "        return MozWebSocket;\n",
       "    } else {\n",
       "        alert('Your browser does not have WebSocket support.' +\n",
       "              'Please try Chrome, Safari or Firefox ≥ 6. ' +\n",
       "              'Firefox 4 and 5 are also supported but you ' +\n",
       "              'have to enable WebSockets in about:config.');\n",
       "    };\n",
       "}\n",
       "\n",
       "mpl.figure = function(figure_id, websocket, ondownload, parent_element) {\n",
       "    this.id = figure_id;\n",
       "\n",
       "    this.ws = websocket;\n",
       "\n",
       "    this.supports_binary = (this.ws.binaryType != undefined);\n",
       "\n",
       "    if (!this.supports_binary) {\n",
       "        var warnings = document.getElementById(\"mpl-warnings\");\n",
       "        if (warnings) {\n",
       "            warnings.style.display = 'block';\n",
       "            warnings.textContent = (\n",
       "                \"This browser does not support binary websocket messages. \" +\n",
       "                    \"Performance may be slow.\");\n",
       "        }\n",
       "    }\n",
       "\n",
       "    this.imageObj = new Image();\n",
       "\n",
       "    this.context = undefined;\n",
       "    this.message = undefined;\n",
       "    this.canvas = undefined;\n",
       "    this.rubberband_canvas = undefined;\n",
       "    this.rubberband_context = undefined;\n",
       "    this.format_dropdown = undefined;\n",
       "\n",
       "    this.image_mode = 'full';\n",
       "\n",
       "    this.root = $('<div/>');\n",
       "    this._root_extra_style(this.root)\n",
       "    this.root.attr('style', 'display: inline-block');\n",
       "\n",
       "    $(parent_element).append(this.root);\n",
       "\n",
       "    this._init_header(this);\n",
       "    this._init_canvas(this);\n",
       "    this._init_toolbar(this);\n",
       "\n",
       "    var fig = this;\n",
       "\n",
       "    this.waiting = false;\n",
       "\n",
       "    this.ws.onopen =  function () {\n",
       "            fig.send_message(\"supports_binary\", {value: fig.supports_binary});\n",
       "            fig.send_message(\"send_image_mode\", {});\n",
       "            if (mpl.ratio != 1) {\n",
       "                fig.send_message(\"set_dpi_ratio\", {'dpi_ratio': mpl.ratio});\n",
       "            }\n",
       "            fig.send_message(\"refresh\", {});\n",
       "        }\n",
       "\n",
       "    this.imageObj.onload = function() {\n",
       "            if (fig.image_mode == 'full') {\n",
       "                // Full images could contain transparency (where diff images\n",
       "                // almost always do), so we need to clear the canvas so that\n",
       "                // there is no ghosting.\n",
       "                fig.context.clearRect(0, 0, fig.canvas.width, fig.canvas.height);\n",
       "            }\n",
       "            fig.context.drawImage(fig.imageObj, 0, 0);\n",
       "        };\n",
       "\n",
       "    this.imageObj.onunload = function() {\n",
       "        this.ws.close();\n",
       "    }\n",
       "\n",
       "    this.ws.onmessage = this._make_on_message_function(this);\n",
       "\n",
       "    this.ondownload = ondownload;\n",
       "}\n",
       "\n",
       "mpl.figure.prototype._init_header = function() {\n",
       "    var titlebar = $(\n",
       "        '<div class=\"ui-dialog-titlebar ui-widget-header ui-corner-all ' +\n",
       "        'ui-helper-clearfix\"/>');\n",
       "    var titletext = $(\n",
       "        '<div class=\"ui-dialog-title\" style=\"width: 100%; ' +\n",
       "        'text-align: center; padding: 3px;\"/>');\n",
       "    titlebar.append(titletext)\n",
       "    this.root.append(titlebar);\n",
       "    this.header = titletext[0];\n",
       "}\n",
       "\n",
       "\n",
       "\n",
       "mpl.figure.prototype._canvas_extra_style = function(canvas_div) {\n",
       "\n",
       "}\n",
       "\n",
       "\n",
       "mpl.figure.prototype._root_extra_style = function(canvas_div) {\n",
       "\n",
       "}\n",
       "\n",
       "mpl.figure.prototype._init_canvas = function() {\n",
       "    var fig = this;\n",
       "\n",
       "    var canvas_div = $('<div/>');\n",
       "\n",
       "    canvas_div.attr('style', 'position: relative; clear: both; outline: 0');\n",
       "\n",
       "    function canvas_keyboard_event(event) {\n",
       "        return fig.key_event(event, event['data']);\n",
       "    }\n",
       "\n",
       "    canvas_div.keydown('key_press', canvas_keyboard_event);\n",
       "    canvas_div.keyup('key_release', canvas_keyboard_event);\n",
       "    this.canvas_div = canvas_div\n",
       "    this._canvas_extra_style(canvas_div)\n",
       "    this.root.append(canvas_div);\n",
       "\n",
       "    var canvas = $('<canvas/>');\n",
       "    canvas.addClass('mpl-canvas');\n",
       "    canvas.attr('style', \"left: 0; top: 0; z-index: 0; outline: 0\")\n",
       "\n",
       "    this.canvas = canvas[0];\n",
       "    this.context = canvas[0].getContext(\"2d\");\n",
       "\n",
       "    var backingStore = this.context.backingStorePixelRatio ||\n",
       "\tthis.context.webkitBackingStorePixelRatio ||\n",
       "\tthis.context.mozBackingStorePixelRatio ||\n",
       "\tthis.context.msBackingStorePixelRatio ||\n",
       "\tthis.context.oBackingStorePixelRatio ||\n",
       "\tthis.context.backingStorePixelRatio || 1;\n",
       "\n",
       "    mpl.ratio = (window.devicePixelRatio || 1) / backingStore;\n",
       "\n",
       "    var rubberband = $('<canvas/>');\n",
       "    rubberband.attr('style', \"position: absolute; left: 0; top: 0; z-index: 1;\")\n",
       "\n",
       "    var pass_mouse_events = true;\n",
       "\n",
       "    canvas_div.resizable({\n",
       "        start: function(event, ui) {\n",
       "            pass_mouse_events = false;\n",
       "        },\n",
       "        resize: function(event, ui) {\n",
       "            fig.request_resize(ui.size.width, ui.size.height);\n",
       "        },\n",
       "        stop: function(event, ui) {\n",
       "            pass_mouse_events = true;\n",
       "            fig.request_resize(ui.size.width, ui.size.height);\n",
       "        },\n",
       "    });\n",
       "\n",
       "    function mouse_event_fn(event) {\n",
       "        if (pass_mouse_events)\n",
       "            return fig.mouse_event(event, event['data']);\n",
       "    }\n",
       "\n",
       "    rubberband.mousedown('button_press', mouse_event_fn);\n",
       "    rubberband.mouseup('button_release', mouse_event_fn);\n",
       "    // Throttle sequential mouse events to 1 every 20ms.\n",
       "    rubberband.mousemove('motion_notify', mouse_event_fn);\n",
       "\n",
       "    rubberband.mouseenter('figure_enter', mouse_event_fn);\n",
       "    rubberband.mouseleave('figure_leave', mouse_event_fn);\n",
       "\n",
       "    canvas_div.on(\"wheel\", function (event) {\n",
       "        event = event.originalEvent;\n",
       "        event['data'] = 'scroll'\n",
       "        if (event.deltaY < 0) {\n",
       "            event.step = 1;\n",
       "        } else {\n",
       "            event.step = -1;\n",
       "        }\n",
       "        mouse_event_fn(event);\n",
       "    });\n",
       "\n",
       "    canvas_div.append(canvas);\n",
       "    canvas_div.append(rubberband);\n",
       "\n",
       "    this.rubberband = rubberband;\n",
       "    this.rubberband_canvas = rubberband[0];\n",
       "    this.rubberband_context = rubberband[0].getContext(\"2d\");\n",
       "    this.rubberband_context.strokeStyle = \"#000000\";\n",
       "\n",
       "    this._resize_canvas = function(width, height) {\n",
       "        // Keep the size of the canvas, canvas container, and rubber band\n",
       "        // canvas in synch.\n",
       "        canvas_div.css('width', width)\n",
       "        canvas_div.css('height', height)\n",
       "\n",
       "        canvas.attr('width', width * mpl.ratio);\n",
       "        canvas.attr('height', height * mpl.ratio);\n",
       "        canvas.attr('style', 'width: ' + width + 'px; height: ' + height + 'px;');\n",
       "\n",
       "        rubberband.attr('width', width);\n",
       "        rubberband.attr('height', height);\n",
       "    }\n",
       "\n",
       "    // Set the figure to an initial 600x600px, this will subsequently be updated\n",
       "    // upon first draw.\n",
       "    this._resize_canvas(600, 600);\n",
       "\n",
       "    // Disable right mouse context menu.\n",
       "    $(this.rubberband_canvas).bind(\"contextmenu\",function(e){\n",
       "        return false;\n",
       "    });\n",
       "\n",
       "    function set_focus () {\n",
       "        canvas.focus();\n",
       "        canvas_div.focus();\n",
       "    }\n",
       "\n",
       "    window.setTimeout(set_focus, 100);\n",
       "}\n",
       "\n",
       "mpl.figure.prototype._init_toolbar = function() {\n",
       "    var fig = this;\n",
       "\n",
       "    var nav_element = $('<div/>')\n",
       "    nav_element.attr('style', 'width: 100%');\n",
       "    this.root.append(nav_element);\n",
       "\n",
       "    // Define a callback function for later on.\n",
       "    function toolbar_event(event) {\n",
       "        return fig.toolbar_button_onclick(event['data']);\n",
       "    }\n",
       "    function toolbar_mouse_event(event) {\n",
       "        return fig.toolbar_button_onmouseover(event['data']);\n",
       "    }\n",
       "\n",
       "    for(var toolbar_ind in mpl.toolbar_items) {\n",
       "        var name = mpl.toolbar_items[toolbar_ind][0];\n",
       "        var tooltip = mpl.toolbar_items[toolbar_ind][1];\n",
       "        var image = mpl.toolbar_items[toolbar_ind][2];\n",
       "        var method_name = mpl.toolbar_items[toolbar_ind][3];\n",
       "\n",
       "        if (!name) {\n",
       "            // put a spacer in here.\n",
       "            continue;\n",
       "        }\n",
       "        var button = $('<button/>');\n",
       "        button.addClass('ui-button ui-widget ui-state-default ui-corner-all ' +\n",
       "                        'ui-button-icon-only');\n",
       "        button.attr('role', 'button');\n",
       "        button.attr('aria-disabled', 'false');\n",
       "        button.click(method_name, toolbar_event);\n",
       "        button.mouseover(tooltip, toolbar_mouse_event);\n",
       "\n",
       "        var icon_img = $('<span/>');\n",
       "        icon_img.addClass('ui-button-icon-primary ui-icon');\n",
       "        icon_img.addClass(image);\n",
       "        icon_img.addClass('ui-corner-all');\n",
       "\n",
       "        var tooltip_span = $('<span/>');\n",
       "        tooltip_span.addClass('ui-button-text');\n",
       "        tooltip_span.html(tooltip);\n",
       "\n",
       "        button.append(icon_img);\n",
       "        button.append(tooltip_span);\n",
       "\n",
       "        nav_element.append(button);\n",
       "    }\n",
       "\n",
       "    var fmt_picker_span = $('<span/>');\n",
       "\n",
       "    var fmt_picker = $('<select/>');\n",
       "    fmt_picker.addClass('mpl-toolbar-option ui-widget ui-widget-content');\n",
       "    fmt_picker_span.append(fmt_picker);\n",
       "    nav_element.append(fmt_picker_span);\n",
       "    this.format_dropdown = fmt_picker[0];\n",
       "\n",
       "    for (var ind in mpl.extensions) {\n",
       "        var fmt = mpl.extensions[ind];\n",
       "        var option = $(\n",
       "            '<option/>', {selected: fmt === mpl.default_extension}).html(fmt);\n",
       "        fmt_picker.append(option)\n",
       "    }\n",
       "\n",
       "    // Add hover states to the ui-buttons\n",
       "    $( \".ui-button\" ).hover(\n",
       "        function() { $(this).addClass(\"ui-state-hover\");},\n",
       "        function() { $(this).removeClass(\"ui-state-hover\");}\n",
       "    );\n",
       "\n",
       "    var status_bar = $('<span class=\"mpl-message\"/>');\n",
       "    nav_element.append(status_bar);\n",
       "    this.message = status_bar[0];\n",
       "}\n",
       "\n",
       "mpl.figure.prototype.request_resize = function(x_pixels, y_pixels) {\n",
       "    // Request matplotlib to resize the figure. Matplotlib will then trigger a resize in the client,\n",
       "    // which will in turn request a refresh of the image.\n",
       "    this.send_message('resize', {'width': x_pixels, 'height': y_pixels});\n",
       "}\n",
       "\n",
       "mpl.figure.prototype.send_message = function(type, properties) {\n",
       "    properties['type'] = type;\n",
       "    properties['figure_id'] = this.id;\n",
       "    this.ws.send(JSON.stringify(properties));\n",
       "}\n",
       "\n",
       "mpl.figure.prototype.send_draw_message = function() {\n",
       "    if (!this.waiting) {\n",
       "        this.waiting = true;\n",
       "        this.ws.send(JSON.stringify({type: \"draw\", figure_id: this.id}));\n",
       "    }\n",
       "}\n",
       "\n",
       "\n",
       "mpl.figure.prototype.handle_save = function(fig, msg) {\n",
       "    var format_dropdown = fig.format_dropdown;\n",
       "    var format = format_dropdown.options[format_dropdown.selectedIndex].value;\n",
       "    fig.ondownload(fig, format);\n",
       "}\n",
       "\n",
       "\n",
       "mpl.figure.prototype.handle_resize = function(fig, msg) {\n",
       "    var size = msg['size'];\n",
       "    if (size[0] != fig.canvas.width || size[1] != fig.canvas.height) {\n",
       "        fig._resize_canvas(size[0], size[1]);\n",
       "        fig.send_message(\"refresh\", {});\n",
       "    };\n",
       "}\n",
       "\n",
       "mpl.figure.prototype.handle_rubberband = function(fig, msg) {\n",
       "    var x0 = msg['x0'] / mpl.ratio;\n",
       "    var y0 = (fig.canvas.height - msg['y0']) / mpl.ratio;\n",
       "    var x1 = msg['x1'] / mpl.ratio;\n",
       "    var y1 = (fig.canvas.height - msg['y1']) / mpl.ratio;\n",
       "    x0 = Math.floor(x0) + 0.5;\n",
       "    y0 = Math.floor(y0) + 0.5;\n",
       "    x1 = Math.floor(x1) + 0.5;\n",
       "    y1 = Math.floor(y1) + 0.5;\n",
       "    var min_x = Math.min(x0, x1);\n",
       "    var min_y = Math.min(y0, y1);\n",
       "    var width = Math.abs(x1 - x0);\n",
       "    var height = Math.abs(y1 - y0);\n",
       "\n",
       "    fig.rubberband_context.clearRect(\n",
       "        0, 0, fig.canvas.width, fig.canvas.height);\n",
       "\n",
       "    fig.rubberband_context.strokeRect(min_x, min_y, width, height);\n",
       "}\n",
       "\n",
       "mpl.figure.prototype.handle_figure_label = function(fig, msg) {\n",
       "    // Updates the figure title.\n",
       "    fig.header.textContent = msg['label'];\n",
       "}\n",
       "\n",
       "mpl.figure.prototype.handle_cursor = function(fig, msg) {\n",
       "    var cursor = msg['cursor'];\n",
       "    switch(cursor)\n",
       "    {\n",
       "    case 0:\n",
       "        cursor = 'pointer';\n",
       "        break;\n",
       "    case 1:\n",
       "        cursor = 'default';\n",
       "        break;\n",
       "    case 2:\n",
       "        cursor = 'crosshair';\n",
       "        break;\n",
       "    case 3:\n",
       "        cursor = 'move';\n",
       "        break;\n",
       "    }\n",
       "    fig.rubberband_canvas.style.cursor = cursor;\n",
       "}\n",
       "\n",
       "mpl.figure.prototype.handle_message = function(fig, msg) {\n",
       "    fig.message.textContent = msg['message'];\n",
       "}\n",
       "\n",
       "mpl.figure.prototype.handle_draw = function(fig, msg) {\n",
       "    // Request the server to send over a new figure.\n",
       "    fig.send_draw_message();\n",
       "}\n",
       "\n",
       "mpl.figure.prototype.handle_image_mode = function(fig, msg) {\n",
       "    fig.image_mode = msg['mode'];\n",
       "}\n",
       "\n",
       "mpl.figure.prototype.updated_canvas_event = function() {\n",
       "    // Called whenever the canvas gets updated.\n",
       "    this.send_message(\"ack\", {});\n",
       "}\n",
       "\n",
       "// A function to construct a web socket function for onmessage handling.\n",
       "// Called in the figure constructor.\n",
       "mpl.figure.prototype._make_on_message_function = function(fig) {\n",
       "    return function socket_on_message(evt) {\n",
       "        if (evt.data instanceof Blob) {\n",
       "            /* FIXME: We get \"Resource interpreted as Image but\n",
       "             * transferred with MIME type text/plain:\" errors on\n",
       "             * Chrome.  But how to set the MIME type?  It doesn't seem\n",
       "             * to be part of the websocket stream */\n",
       "            evt.data.type = \"image/png\";\n",
       "\n",
       "            /* Free the memory for the previous frames */\n",
       "            if (fig.imageObj.src) {\n",
       "                (window.URL || window.webkitURL).revokeObjectURL(\n",
       "                    fig.imageObj.src);\n",
       "            }\n",
       "\n",
       "            fig.imageObj.src = (window.URL || window.webkitURL).createObjectURL(\n",
       "                evt.data);\n",
       "            fig.updated_canvas_event();\n",
       "            fig.waiting = false;\n",
       "            return;\n",
       "        }\n",
       "        else if (typeof evt.data === 'string' && evt.data.slice(0, 21) == \"data:image/png;base64\") {\n",
       "            fig.imageObj.src = evt.data;\n",
       "            fig.updated_canvas_event();\n",
       "            fig.waiting = false;\n",
       "            return;\n",
       "        }\n",
       "\n",
       "        var msg = JSON.parse(evt.data);\n",
       "        var msg_type = msg['type'];\n",
       "\n",
       "        // Call the  \"handle_{type}\" callback, which takes\n",
       "        // the figure and JSON message as its only arguments.\n",
       "        try {\n",
       "            var callback = fig[\"handle_\" + msg_type];\n",
       "        } catch (e) {\n",
       "            console.log(\"No handler for the '\" + msg_type + \"' message type: \", msg);\n",
       "            return;\n",
       "        }\n",
       "\n",
       "        if (callback) {\n",
       "            try {\n",
       "                // console.log(\"Handling '\" + msg_type + \"' message: \", msg);\n",
       "                callback(fig, msg);\n",
       "            } catch (e) {\n",
       "                console.log(\"Exception inside the 'handler_\" + msg_type + \"' callback:\", e, e.stack, msg);\n",
       "            }\n",
       "        }\n",
       "    };\n",
       "}\n",
       "\n",
       "// from http://stackoverflow.com/questions/1114465/getting-mouse-location-in-canvas\n",
       "mpl.findpos = function(e) {\n",
       "    //this section is from http://www.quirksmode.org/js/events_properties.html\n",
       "    var targ;\n",
       "    if (!e)\n",
       "        e = window.event;\n",
       "    if (e.target)\n",
       "        targ = e.target;\n",
       "    else if (e.srcElement)\n",
       "        targ = e.srcElement;\n",
       "    if (targ.nodeType == 3) // defeat Safari bug\n",
       "        targ = targ.parentNode;\n",
       "\n",
       "    // jQuery normalizes the pageX and pageY\n",
       "    // pageX,Y are the mouse positions relative to the document\n",
       "    // offset() returns the position of the element relative to the document\n",
       "    var x = e.pageX - $(targ).offset().left;\n",
       "    var y = e.pageY - $(targ).offset().top;\n",
       "\n",
       "    return {\"x\": x, \"y\": y};\n",
       "};\n",
       "\n",
       "/*\n",
       " * return a copy of an object with only non-object keys\n",
       " * we need this to avoid circular references\n",
       " * http://stackoverflow.com/a/24161582/3208463\n",
       " */\n",
       "function simpleKeys (original) {\n",
       "  return Object.keys(original).reduce(function (obj, key) {\n",
       "    if (typeof original[key] !== 'object')\n",
       "        obj[key] = original[key]\n",
       "    return obj;\n",
       "  }, {});\n",
       "}\n",
       "\n",
       "mpl.figure.prototype.mouse_event = function(event, name) {\n",
       "    var canvas_pos = mpl.findpos(event)\n",
       "\n",
       "    if (name === 'button_press')\n",
       "    {\n",
       "        this.canvas.focus();\n",
       "        this.canvas_div.focus();\n",
       "    }\n",
       "\n",
       "    var x = canvas_pos.x * mpl.ratio;\n",
       "    var y = canvas_pos.y * mpl.ratio;\n",
       "\n",
       "    this.send_message(name, {x: x, y: y, button: event.button,\n",
       "                             step: event.step,\n",
       "                             guiEvent: simpleKeys(event)});\n",
       "\n",
       "    /* This prevents the web browser from automatically changing to\n",
       "     * the text insertion cursor when the button is pressed.  We want\n",
       "     * to control all of the cursor setting manually through the\n",
       "     * 'cursor' event from matplotlib */\n",
       "    event.preventDefault();\n",
       "    return false;\n",
       "}\n",
       "\n",
       "mpl.figure.prototype._key_event_extra = function(event, name) {\n",
       "    // Handle any extra behaviour associated with a key event\n",
       "}\n",
       "\n",
       "mpl.figure.prototype.key_event = function(event, name) {\n",
       "\n",
       "    // Prevent repeat events\n",
       "    if (name == 'key_press')\n",
       "    {\n",
       "        if (event.which === this._key)\n",
       "            return;\n",
       "        else\n",
       "            this._key = event.which;\n",
       "    }\n",
       "    if (name == 'key_release')\n",
       "        this._key = null;\n",
       "\n",
       "    var value = '';\n",
       "    if (event.ctrlKey && event.which != 17)\n",
       "        value += \"ctrl+\";\n",
       "    if (event.altKey && event.which != 18)\n",
       "        value += \"alt+\";\n",
       "    if (event.shiftKey && event.which != 16)\n",
       "        value += \"shift+\";\n",
       "\n",
       "    value += 'k';\n",
       "    value += event.which.toString();\n",
       "\n",
       "    this._key_event_extra(event, name);\n",
       "\n",
       "    this.send_message(name, {key: value,\n",
       "                             guiEvent: simpleKeys(event)});\n",
       "    return false;\n",
       "}\n",
       "\n",
       "mpl.figure.prototype.toolbar_button_onclick = function(name) {\n",
       "    if (name == 'download') {\n",
       "        this.handle_save(this, null);\n",
       "    } else {\n",
       "        this.send_message(\"toolbar_button\", {name: name});\n",
       "    }\n",
       "};\n",
       "\n",
       "mpl.figure.prototype.toolbar_button_onmouseover = function(tooltip) {\n",
       "    this.message.textContent = tooltip;\n",
       "};\n",
       "mpl.toolbar_items = [[\"Home\", \"Reset original view\", \"fa fa-home icon-home\", \"home\"], [\"Back\", \"Back to  previous view\", \"fa fa-arrow-left icon-arrow-left\", \"back\"], [\"Forward\", \"Forward to next view\", \"fa fa-arrow-right icon-arrow-right\", \"forward\"], [\"\", \"\", \"\", \"\"], [\"Pan\", \"Pan axes with left mouse, zoom with right\", \"fa fa-arrows icon-move\", \"pan\"], [\"Zoom\", \"Zoom to rectangle\", \"fa fa-square-o icon-check-empty\", \"zoom\"], [\"\", \"\", \"\", \"\"], [\"Download\", \"Download plot\", \"fa fa-floppy-o icon-save\", \"download\"]];\n",
       "\n",
       "mpl.extensions = [\"eps\", \"jpeg\", \"pdf\", \"png\", \"ps\", \"raw\", \"svg\", \"tif\"];\n",
       "\n",
       "mpl.default_extension = \"png\";var comm_websocket_adapter = function(comm) {\n",
       "    // Create a \"websocket\"-like object which calls the given IPython comm\n",
       "    // object with the appropriate methods. Currently this is a non binary\n",
       "    // socket, so there is still some room for performance tuning.\n",
       "    var ws = {};\n",
       "\n",
       "    ws.close = function() {\n",
       "        comm.close()\n",
       "    };\n",
       "    ws.send = function(m) {\n",
       "        //console.log('sending', m);\n",
       "        comm.send(m);\n",
       "    };\n",
       "    // Register the callback with on_msg.\n",
       "    comm.on_msg(function(msg) {\n",
       "        //console.log('receiving', msg['content']['data'], msg);\n",
       "        // Pass the mpl event to the overriden (by mpl) onmessage function.\n",
       "        ws.onmessage(msg['content']['data'])\n",
       "    });\n",
       "    return ws;\n",
       "}\n",
       "\n",
       "mpl.mpl_figure_comm = function(comm, msg) {\n",
       "    // This is the function which gets called when the mpl process\n",
       "    // starts-up an IPython Comm through the \"matplotlib\" channel.\n",
       "\n",
       "    var id = msg.content.data.id;\n",
       "    // Get hold of the div created by the display call when the Comm\n",
       "    // socket was opened in Python.\n",
       "    var element = $(\"#\" + id);\n",
       "    var ws_proxy = comm_websocket_adapter(comm)\n",
       "\n",
       "    function ondownload(figure, format) {\n",
       "        window.open(figure.imageObj.src);\n",
       "    }\n",
       "\n",
       "    var fig = new mpl.figure(id, ws_proxy,\n",
       "                           ondownload,\n",
       "                           element.get(0));\n",
       "\n",
       "    // Call onopen now - mpl needs it, as it is assuming we've passed it a real\n",
       "    // web socket which is closed, not our websocket->open comm proxy.\n",
       "    ws_proxy.onopen();\n",
       "\n",
       "    fig.parent_element = element.get(0);\n",
       "    fig.cell_info = mpl.find_output_cell(\"<div id='\" + id + \"'></div>\");\n",
       "    if (!fig.cell_info) {\n",
       "        console.error(\"Failed to find cell for figure\", id, fig);\n",
       "        return;\n",
       "    }\n",
       "\n",
       "    var output_index = fig.cell_info[2]\n",
       "    var cell = fig.cell_info[0];\n",
       "\n",
       "};\n",
       "\n",
       "mpl.figure.prototype.handle_close = function(fig, msg) {\n",
       "    var width = fig.canvas.width/mpl.ratio\n",
       "    fig.root.unbind('remove')\n",
       "\n",
       "    // Update the output cell to use the data from the current canvas.\n",
       "    fig.push_to_output();\n",
       "    var dataURL = fig.canvas.toDataURL();\n",
       "    // Re-enable the keyboard manager in IPython - without this line, in FF,\n",
       "    // the notebook keyboard shortcuts fail.\n",
       "    IPython.keyboard_manager.enable()\n",
       "    $(fig.parent_element).html('<img src=\"' + dataURL + '\" width=\"' + width + '\">');\n",
       "    fig.close_ws(fig, msg);\n",
       "}\n",
       "\n",
       "mpl.figure.prototype.close_ws = function(fig, msg){\n",
       "    fig.send_message('closing', msg);\n",
       "    // fig.ws.close()\n",
       "}\n",
       "\n",
       "mpl.figure.prototype.push_to_output = function(remove_interactive) {\n",
       "    // Turn the data on the canvas into data in the output cell.\n",
       "    var width = this.canvas.width/mpl.ratio\n",
       "    var dataURL = this.canvas.toDataURL();\n",
       "    this.cell_info[1]['text/html'] = '<img src=\"' + dataURL + '\" width=\"' + width + '\">';\n",
       "}\n",
       "\n",
       "mpl.figure.prototype.updated_canvas_event = function() {\n",
       "    // Tell IPython that the notebook contents must change.\n",
       "    IPython.notebook.set_dirty(true);\n",
       "    this.send_message(\"ack\", {});\n",
       "    var fig = this;\n",
       "    // Wait a second, then push the new image to the DOM so\n",
       "    // that it is saved nicely (might be nice to debounce this).\n",
       "    setTimeout(function () { fig.push_to_output() }, 1000);\n",
       "}\n",
       "\n",
       "mpl.figure.prototype._init_toolbar = function() {\n",
       "    var fig = this;\n",
       "\n",
       "    var nav_element = $('<div/>')\n",
       "    nav_element.attr('style', 'width: 100%');\n",
       "    this.root.append(nav_element);\n",
       "\n",
       "    // Define a callback function for later on.\n",
       "    function toolbar_event(event) {\n",
       "        return fig.toolbar_button_onclick(event['data']);\n",
       "    }\n",
       "    function toolbar_mouse_event(event) {\n",
       "        return fig.toolbar_button_onmouseover(event['data']);\n",
       "    }\n",
       "\n",
       "    for(var toolbar_ind in mpl.toolbar_items){\n",
       "        var name = mpl.toolbar_items[toolbar_ind][0];\n",
       "        var tooltip = mpl.toolbar_items[toolbar_ind][1];\n",
       "        var image = mpl.toolbar_items[toolbar_ind][2];\n",
       "        var method_name = mpl.toolbar_items[toolbar_ind][3];\n",
       "\n",
       "        if (!name) { continue; };\n",
       "\n",
       "        var button = $('<button class=\"btn btn-default\" href=\"#\" title=\"' + name + '\"><i class=\"fa ' + image + ' fa-lg\"></i></button>');\n",
       "        button.click(method_name, toolbar_event);\n",
       "        button.mouseover(tooltip, toolbar_mouse_event);\n",
       "        nav_element.append(button);\n",
       "    }\n",
       "\n",
       "    // Add the status bar.\n",
       "    var status_bar = $('<span class=\"mpl-message\" style=\"text-align:right; float: right;\"/>');\n",
       "    nav_element.append(status_bar);\n",
       "    this.message = status_bar[0];\n",
       "\n",
       "    // Add the close button to the window.\n",
       "    var buttongrp = $('<div class=\"btn-group inline pull-right\"></div>');\n",
       "    var button = $('<button class=\"btn btn-mini btn-primary\" href=\"#\" title=\"Stop Interaction\"><i class=\"fa fa-power-off icon-remove icon-large\"></i></button>');\n",
       "    button.click(function (evt) { fig.handle_close(fig, {}); } );\n",
       "    button.mouseover('Stop Interaction', toolbar_mouse_event);\n",
       "    buttongrp.append(button);\n",
       "    var titlebar = this.root.find($('.ui-dialog-titlebar'));\n",
       "    titlebar.prepend(buttongrp);\n",
       "}\n",
       "\n",
       "mpl.figure.prototype._root_extra_style = function(el){\n",
       "    var fig = this\n",
       "    el.on(\"remove\", function(){\n",
       "\tfig.close_ws(fig, {});\n",
       "    });\n",
       "}\n",
       "\n",
       "mpl.figure.prototype._canvas_extra_style = function(el){\n",
       "    // this is important to make the div 'focusable\n",
       "    el.attr('tabindex', 0)\n",
       "    // reach out to IPython and tell the keyboard manager to turn it's self\n",
       "    // off when our div gets focus\n",
       "\n",
       "    // location in version 3\n",
       "    if (IPython.notebook.keyboard_manager) {\n",
       "        IPython.notebook.keyboard_manager.register_events(el);\n",
       "    }\n",
       "    else {\n",
       "        // location in version 2\n",
       "        IPython.keyboard_manager.register_events(el);\n",
       "    }\n",
       "\n",
       "}\n",
       "\n",
       "mpl.figure.prototype._key_event_extra = function(event, name) {\n",
       "    var manager = IPython.notebook.keyboard_manager;\n",
       "    if (!manager)\n",
       "        manager = IPython.keyboard_manager;\n",
       "\n",
       "    // Check for shift+enter\n",
       "    if (event.shiftKey && event.which == 13) {\n",
       "        this.canvas_div.blur();\n",
       "        // select the cell after this one\n",
       "        var index = IPython.notebook.find_cell_index(this.cell_info[0]);\n",
       "        IPython.notebook.select(index + 1);\n",
       "    }\n",
       "}\n",
       "\n",
       "mpl.figure.prototype.handle_save = function(fig, msg) {\n",
       "    fig.ondownload(fig, null);\n",
       "}\n",
       "\n",
       "\n",
       "mpl.find_output_cell = function(html_output) {\n",
       "    // Return the cell and output element which can be found *uniquely* in the notebook.\n",
       "    // Note - this is a bit hacky, but it is done because the \"notebook_saving.Notebook\"\n",
       "    // IPython event is triggered only after the cells have been serialised, which for\n",
       "    // our purposes (turning an active figure into a static one), is too late.\n",
       "    var cells = IPython.notebook.get_cells();\n",
       "    var ncells = cells.length;\n",
       "    for (var i=0; i<ncells; i++) {\n",
       "        var cell = cells[i];\n",
       "        if (cell.cell_type === 'code'){\n",
       "            for (var j=0; j<cell.output_area.outputs.length; j++) {\n",
       "                var data = cell.output_area.outputs[j];\n",
       "                if (data.data) {\n",
       "                    // IPython >= 3 moved mimebundle to data attribute of output\n",
       "                    data = data.data;\n",
       "                }\n",
       "                if (data['text/html'] == html_output) {\n",
       "                    return [cell, data, j];\n",
       "                }\n",
       "            }\n",
       "        }\n",
       "    }\n",
       "}\n",
       "\n",
       "// Register the function which deals with the matplotlib target/channel.\n",
       "// The kernel may be null if the page has been refreshed.\n",
       "if (IPython.notebook.kernel != null) {\n",
       "    IPython.notebook.kernel.comm_manager.register_target('matplotlib', mpl.mpl_figure_comm);\n",
       "}\n"
      ],
      "text/plain": [
       "<IPython.core.display.Javascript object>"
      ]
     },
     "metadata": {},
     "output_type": "display_data"
    },
    {
     "data": {
      "text/html": [
       "<img src=\"data:image/png;base64,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\" width=\"299.73333333333335\">"
      ],
      "text/plain": [
       "<IPython.core.display.HTML object>"
      ]
     },
     "metadata": {},
     "output_type": "display_data"
    }
   ],
   "source": [
    "# 假数据\n",
    "n_data_12 = torch.ones(100, 2)         # 数据的基本形态\n",
    "x0_12 = torch.normal(2*n_data_12, 1)      # 类型0 x data (tensor), shape=(100, 2)\n",
    "y0_12 = torch.zeros(100)               # 类型0 y data (tensor), shape=(100, 1)\n",
    "x1_12 = torch.normal(-2*n_data_12, 1)     # 类型1 x data (tensor), shape=(100, 1)\n",
    "y1_12 = torch.ones(100)                # 类型1 y data (tensor), shape=(100, 1)\n",
    "\n",
    "# 注意 x, y 数据的数据形式是一定要像下面一样 (torch.cat 是在合并数据)\n",
    "# 尝试了不更改type似乎也行\n",
    "x_12 = torch.cat((x0_12, x1_12), 0).type(torch.FloatTensor)  # FloatTensor = 32-bit floating\n",
    "y_12 = torch.cat((y0_12, y1_12), ).type(torch.LongTensor)    # LongTensor = 64-bit integer\n",
    "\n",
    "# 可移动操作的图示！\n",
    "plt.figure(figsize = (3, 3))\n",
    "plt.scatter(x_12.data.numpy()[:, 0], x_12.data.numpy()[:, 1], c=y_12.data.numpy(), s=20, lw=0, cmap='RdYlGn')\n",
    "plt.show()\n",
    "\n",
    "# 画图\n",
    "# ValueError: x and y must be the same size\n",
    "# plt.scatter(x_12.data.numpy(), y_12.data.numpy())\n",
    "# plt.show()"
   ]
  },
  {
   "cell_type": "markdown",
   "metadata": {
    "collapsed": true
   },
   "source": [
    "####  神经网络"
   ]
  },
  {
   "cell_type": "code",
   "execution_count": 48,
   "metadata": {},
   "outputs": [
    {
     "name": "stdout",
     "output_type": "stream",
     "text": [
      "Net(\n",
      "  (hidden): Linear(in_features=2, out_features=10, bias=True)\n",
      "  (predict): Linear(in_features=10, out_features=2, bias=True)\n",
      ")\n"
     ]
    }
   ],
   "source": [
    "# 生成一个网络\n",
    "class Net(torch.nn.Module):\n",
    "    # 基本功能 __init__() 和 forward()\n",
    "    def __init__(self, n_features, n_hidden, n_output):\n",
    "        # 继承网络功能，必备\n",
    "        super(Net, self).__init__()\n",
    "        # 隐藏层\n",
    "        self.hidden = torch.nn.Linear(n_features, n_hidden) # (n_features, n_hidden) 参数个数，隐藏层神经元\n",
    "        # 预测层\n",
    "        self.predict = torch.nn.Linear(n_hidden, n_output) # (n_hidden, n_output) 隐藏层神经元，输出神经元\n",
    "    \n",
    "    # 前向传递\n",
    "    def forward(self, x):\n",
    "        # 经过第一层隐藏层后的数据再经过relu函数\n",
    "        x = torch.relu(self.hidden(x))\n",
    "        x = self.predict(x)\n",
    "        return x\n",
    "\n",
    "# 分类问题，有x, y两种特征，并且希望分为两类，因此下面有所差别\n",
    "net = Net(2, 10, 2) # 2个点作为输入，10个隐藏层神经元，2个输出\n",
    "print(net)"
   ]
  },
  {
   "cell_type": "markdown",
   "metadata": {},
   "source": [
    "#### 训练过程"
   ]
  },
  {
   "cell_type": "code",
   "execution_count": 49,
   "metadata": {},
   "outputs": [
    {
     "name": "stdout",
     "output_type": "stream",
     "text": [
      "Iteration 10 Loss:  tensor(0.2565, grad_fn=<NllLossBackward>)\n",
      "Iteration 20 Loss:  tensor(0.1468, grad_fn=<NllLossBackward>)\n",
      "Iteration 30 Loss:  tensor(0.1004, grad_fn=<NllLossBackward>)\n",
      "Iteration 40 Loss:  tensor(0.0755, grad_fn=<NllLossBackward>)\n",
      "Iteration 50 Loss:  tensor(0.0601, grad_fn=<NllLossBackward>)\n",
      "Iteration 60 Loss:  tensor(0.0496, grad_fn=<NllLossBackward>)\n",
      "Iteration 70 Loss:  tensor(0.0422, grad_fn=<NllLossBackward>)\n",
      "Iteration 80 Loss:  tensor(0.0366, grad_fn=<NllLossBackward>)\n",
      "Iteration 90 Loss:  tensor(0.0322, grad_fn=<NllLossBackward>)\n",
      "Iteration 100 Loss:  tensor(0.0287, grad_fn=<NllLossBackward>)\n"
     ]
    }
   ],
   "source": [
    "# 执行前应该先执行1.4.2.4\n",
    "\n",
    "# 仍然使用SGD\n",
    "optimizer = torch.optim.SGD(net.parameters(), lr = .05)\n",
    "# 分类问题不采用MSELoss\n",
    "loss_func = torch.nn.CrossEntropyLoss() # 概率误差[0.1,0.2, 0.7]\n",
    "iterations = 100\n",
    "\n",
    "for i in range(iterations):\n",
    "    out = net(x_12)\n",
    "    # 损失函数计算\n",
    "    loss = loss_func(out, y_12)\n",
    "    \n",
    "    # 把该次迭代时梯度先设为0\n",
    "    optimizer.zero_grad()\n",
    "    # 反向传播\n",
    "    loss.backward()\n",
    "    # 优化更新参数\n",
    "    optimizer.step()\n",
    "    # 打印操作\n",
    "    if (i+1) % 10 == 0:\n",
    "        print(\"Iteration\",i + 1,\"Loss: \",loss)"
   ]
  },
  {
   "cell_type": "code",
   "execution_count": null,
   "metadata": {
    "collapsed": true
   },
   "outputs": [],
   "source": []
  },
  {
   "cell_type": "markdown",
   "metadata": {},
   "source": [
    "## 高级神经网络结构"
   ]
  },
  {
   "cell_type": "markdown",
   "metadata": {},
   "source": [
    "> 从 [4.1 什么是CNN](https://www.bilibili.com/video/av15997678/?p=19) 开始"
   ]
  },
  {
   "cell_type": "code",
   "execution_count": null,
   "metadata": {
    "collapsed": true
   },
   "outputs": [],
   "source": []
  },
  {
   "cell_type": "markdown",
   "metadata": {},
   "source": [
    "## 高阶内容"
   ]
  },
  {
   "cell_type": "markdown",
   "metadata": {},
   "source": [
    "> 从 [5.1 为什么Torch是动态的](https://www.bilibili.com/video/av15997678/?p=30) 开始"
   ]
  },
  {
   "cell_type": "code",
   "execution_count": null,
   "metadata": {
    "collapsed": true
   },
   "outputs": [],
   "source": []
  },
  {
   "cell_type": "markdown",
   "metadata": {},
   "source": [
    "## 继续学习"
   ]
  },
  {
   "cell_type": "markdown",
   "metadata": {},
   "source": [
    "> from [新手如何入门pytorch？](https://www.zhihu.com/question/55720139) 陈云\n",
    "\n",
    "**第一步** **github的** [tutorials](https://link.zhihu.com/?target=http%3A//pytorch.org/tutorials/) 尤其是那个60分钟的入门。只能说比tensorflow简单许多, 我在火车上看了一两个小时就感觉基本入门了. 另外*jcjohnson* 的[Simple examples to introduce PyTorch](https://link.zhihu.com/?target=https%3A//github.com/jcjohnson/pytorch-examples) 也不错\n",
    "\n",
    "**第二步** **example** 参考 [pytorch/examples](https://link.zhihu.com/?target=https%3A//github.com/pytorch/examples) 实现一个最简单的例子(比如训练mnist )。\n",
    "\n",
    "**第三步** **通读doc** [PyTorch doc](https://link.zhihu.com/?target=http%3A//pytorch.org/docs/) 尤其是[autograd](https://link.zhihu.com/?target=http%3A//pytorch.org/docs/notes/autograd.html)的机制，和[nn.module](https://link.zhihu.com/?target=http%3A//pytorch.org/docs/nn.html%23torch.nn.Module) *,optim 等*相关内容。文档现在已经很完善，而且绝大部分文档都是**作者亲自写**的，质量很高。\n",
    "\n",
    "**第四步** **论坛讨论** [PyTorch Forums](https://link.zhihu.com/?target=https%3A//discuss.pytorch.org/) 。论坛很活跃，而且质量很高，pytorch的维护者(作者)回帖很及时的。每天刷一刷帖可以少走很多弯路，避开许多陷阱,消除很多思维惯性.尤其看看那些阅读量高的贴，刷帖能从作者那里学会如何写出bug-free clean and elegant 的代码。如果自己遇到问题可以先搜索一下，一般都能找到解决方案，找不到的话大胆提问，大家都很热心的。\n",
    "\n",
    "**第五步** **阅读源代码** fork pytorch，pytorch-vision等。相比其他框架，pytorch代码量不大，而且抽象层次没有那么多，很容易读懂的。通过阅读代码可以了解函数和类的机制，此外它的很多函数,模型,模块的实现方法都如教科书般经典。还可以关注官方仓库的issue/pull request, 了解pytorch开发进展，以及避坑。\n",
    "\n",
    "**推销一下我写的教程：chenyuntc/pytorch-book 用notebook写的教程，里面还有很多有趣的例子，比如用GAN生成动漫头像，用CharRNN写唐诗，类Prisma的滤镜（风格迁移）和图像描述等**"
   ]
  },
  {
   "cell_type": "markdown",
   "metadata": {},
   "source": [
    "未完待续！"
   ]
  }
 ],
 "metadata": {
  "kernelspec": {
   "display_name": "Python 3",
   "language": "python",
   "name": "python3"
  },
  "language_info": {
   "codemirror_mode": {
    "name": "ipython",
    "version": 3
   },
   "file_extension": ".py",
   "mimetype": "text/x-python",
   "name": "python",
   "nbconvert_exporter": "python",
   "pygments_lexer": "ipython3",
   "version": "3.6.2"
  },
  "toc": {
   "base_numbering": 1,
   "nav_menu": {},
   "number_sections": true,
   "sideBar": false,
   "skip_h1_title": false,
   "title_cell": "Table of Contents",
   "title_sidebar": "Contents",
   "toc_cell": true,
   "toc_position": {
    "height": "200px",
    "left": "1px",
    "right": "20px",
    "top": "151px",
    "width": "212px"
   },
   "toc_section_display": "block",
   "toc_window_display": false
  }
 },
 "nbformat": 4,
 "nbformat_minor": 2
}
